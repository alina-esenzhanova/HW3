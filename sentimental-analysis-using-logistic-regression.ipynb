{
 "cells": [
  {
   "cell_type": "markdown",
   "metadata": {},
   "source": [
    "# IMPORTING NECESSARY MODULES"
   ]
  },
  {
   "cell_type": "code",
   "execution_count": 2,
   "metadata": {
    "_cell_guid": "b1076dfc-b9ad-4769-8c92-a6c4dae69d19",
    "_uuid": "8f2839f25d086af736a60e9eeb907d3b93b6e0e5",
    "execution": {
     "iopub.execute_input": "2021-03-13T16:27:39.217519Z",
     "iopub.status.busy": "2021-03-13T16:27:39.216547Z",
     "iopub.status.idle": "2021-03-13T16:27:39.234404Z",
     "shell.execute_reply": "2021-03-13T16:27:39.235238Z"
    },
    "papermill": {
     "duration": 0.035859,
     "end_time": "2021-03-13T16:27:39.235853",
     "exception": false,
     "start_time": "2021-03-13T16:27:39.199994",
     "status": "completed"
    },
    "tags": []
   },
   "outputs": [],
   "source": [
    "import numpy as np \n",
    "import pandas as pd \n",
    "import matplotlib.pyplot as plt  \n",
    "%matplotlib inline\n",
    "import seaborn as sns  \n",
    "from bs4 import BeautifulSoup "
   ]
  },
  {
   "cell_type": "markdown",
   "metadata": {},
   "source": [
    "# IMPORTING DATASET"
   ]
  },
  {
   "cell_type": "code",
   "execution_count": 4,
   "metadata": {
    "execution": {
     "iopub.execute_input": "2021-03-13T16:27:39.271093Z",
     "iopub.status.busy": "2021-03-13T16:27:39.270285Z",
     "iopub.status.idle": "2021-03-13T16:27:47.294167Z",
     "shell.execute_reply": "2021-03-13T16:27:47.293549Z"
    },
    "papermill": {
     "duration": 8.043911,
     "end_time": "2021-03-13T16:27:47.294319",
     "exception": false,
     "start_time": "2021-03-13T16:27:39.250408",
     "status": "completed"
    },
    "scrolled": true,
    "tags": []
   },
   "outputs": [
    {
     "data": {
      "text/html": [
       "<div>\n",
       "<style scoped>\n",
       "    .dataframe tbody tr th:only-of-type {\n",
       "        vertical-align: middle;\n",
       "    }\n",
       "\n",
       "    .dataframe tbody tr th {\n",
       "        vertical-align: top;\n",
       "    }\n",
       "\n",
       "    .dataframe thead th {\n",
       "        text-align: right;\n",
       "    }\n",
       "</style>\n",
       "<table border=\"1\" class=\"dataframe\">\n",
       "  <thead>\n",
       "    <tr style=\"text-align: right;\">\n",
       "      <th></th>\n",
       "      <th>permalink</th>\n",
       "      <th>rating</th>\n",
       "      <th>review_text</th>\n",
       "    </tr>\n",
       "  </thead>\n",
       "  <tbody>\n",
       "    <tr>\n",
       "      <th>0</th>\n",
       "      <td>1000095379</td>\n",
       "      <td>4.0</td>\n",
       "      <td>Вкусная питца, естт летнее кафе, доставка, при...</td>\n",
       "    </tr>\n",
       "    <tr>\n",
       "      <th>1</th>\n",
       "      <td>1000095379</td>\n",
       "      <td>1.0</td>\n",
       "      <td>Думал можно днём с детьми посидеть на открытой...</td>\n",
       "    </tr>\n",
       "    <tr>\n",
       "      <th>2</th>\n",
       "      <td>1000095379</td>\n",
       "      <td>4.0</td>\n",
       "      <td>Есть веранда, вкусная пицца, делают по половин...</td>\n",
       "    </tr>\n",
       "    <tr>\n",
       "      <th>3</th>\n",
       "      <td>1000095379</td>\n",
       "      <td>1.0</td>\n",
       "      <td>Уже второй раз забивают на заказ</td>\n",
       "    </tr>\n",
       "    <tr>\n",
       "      <th>4</th>\n",
       "      <td>1000095379</td>\n",
       "      <td>5.0</td>\n",
       "      <td>Любимая пиццерия! 👍</td>\n",
       "    </tr>\n",
       "    <tr>\n",
       "      <th>...</th>\n",
       "      <td>...</td>\n",
       "      <td>...</td>\n",
       "      <td>...</td>\n",
       "    </tr>\n",
       "    <tr>\n",
       "      <th>328640</th>\n",
       "      <td>245591834558</td>\n",
       "      <td>5.0</td>\n",
       "      <td>Очень вкусная пицца!!!!</td>\n",
       "    </tr>\n",
       "    <tr>\n",
       "      <th>328641</th>\n",
       "      <td>245591834558</td>\n",
       "      <td>5.0</td>\n",
       "      <td>Лучший борщ на Роза Хутор!!! Большая порция, т...</td>\n",
       "    </tr>\n",
       "    <tr>\n",
       "      <th>328642</th>\n",
       "      <td>245591834558</td>\n",
       "      <td>5.0</td>\n",
       "      <td>Все понравилось! Пицца норм</td>\n",
       "    </tr>\n",
       "    <tr>\n",
       "      <th>328643</th>\n",
       "      <td>245591834558</td>\n",
       "      <td>1.0</td>\n",
       "      <td>обслуживание нормальное, соотношение цена/каче...</td>\n",
       "    </tr>\n",
       "    <tr>\n",
       "      <th>328644</th>\n",
       "      <td>245591834558</td>\n",
       "      <td>1.0</td>\n",
       "      <td>Ооочень долгое обслуживание.  Необоснованно вы...</td>\n",
       "    </tr>\n",
       "  </tbody>\n",
       "</table>\n",
       "<p>328645 rows × 3 columns</p>\n",
       "</div>"
      ],
      "text/plain": [
       "           permalink  rating  \\\n",
       "0         1000095379     4.0   \n",
       "1         1000095379     1.0   \n",
       "2         1000095379     4.0   \n",
       "3         1000095379     1.0   \n",
       "4         1000095379     5.0   \n",
       "...              ...     ...   \n",
       "328640  245591834558     5.0   \n",
       "328641  245591834558     5.0   \n",
       "328642  245591834558     5.0   \n",
       "328643  245591834558     1.0   \n",
       "328644  245591834558     1.0   \n",
       "\n",
       "                                              review_text  \n",
       "0       Вкусная питца, естт летнее кафе, доставка, при...  \n",
       "1       Думал можно днём с детьми посидеть на открытой...  \n",
       "2       Есть веранда, вкусная пицца, делают по половин...  \n",
       "3                        Уже второй раз забивают на заказ  \n",
       "4                                     Любимая пиццерия! 👍  \n",
       "...                                                   ...  \n",
       "328640                            Очень вкусная пицца!!!!  \n",
       "328641  Лучший борщ на Роза Хутор!!! Большая порция, т...  \n",
       "328642                        Все понравилось! Пицца норм  \n",
       "328643  обслуживание нормальное, соотношение цена/каче...  \n",
       "328644  Ооочень долгое обслуживание.  Необоснованно вы...  \n",
       "\n",
       "[328645 rows x 3 columns]"
      ]
     },
     "execution_count": 4,
     "metadata": {},
     "output_type": "execute_result"
    }
   ],
   "source": [
    "data = pd.read_table('C:/Users/chirl/Downloads/reviews.tsv')\n",
    "data"
   ]
  },
  {
   "cell_type": "markdown",
   "metadata": {},
   "source": [
    "# DATA PREPROCESSING & VISUALISATION"
   ]
  },
  {
   "cell_type": "code",
   "execution_count": 5,
   "metadata": {
    "execution": {
     "iopub.execute_input": "2021-03-13T16:27:47.637700Z",
     "iopub.status.busy": "2021-03-13T16:27:47.324855Z",
     "iopub.status.idle": "2021-03-13T16:27:47.652536Z",
     "shell.execute_reply": "2021-03-13T16:27:47.651955Z"
    },
    "papermill": {
     "duration": 0.34554,
     "end_time": "2021-03-13T16:27:47.652678",
     "exception": false,
     "start_time": "2021-03-13T16:27:47.307138",
     "status": "completed"
    },
    "tags": []
   },
   "outputs": [
    {
     "data": {
      "text/plain": [
       "permalink        0\n",
       "rating         159\n",
       "review_text    160\n",
       "dtype: int64"
      ]
     },
     "execution_count": 5,
     "metadata": {},
     "output_type": "execute_result"
    }
   ],
   "source": [
    "data.isnull().sum()"
   ]
  },
  {
   "cell_type": "code",
   "execution_count": 6,
   "metadata": {
    "execution": {
     "iopub.execute_input": "2021-03-13T16:27:48.002053Z",
     "iopub.status.busy": "2021-03-13T16:27:47.684503Z",
     "iopub.status.idle": "2021-03-13T16:27:48.435326Z",
     "shell.execute_reply": "2021-03-13T16:27:48.434615Z"
    },
    "papermill": {
     "duration": 0.769449,
     "end_time": "2021-03-13T16:27:48.435483",
     "exception": false,
     "start_time": "2021-03-13T16:27:47.666034",
     "status": "completed"
    },
    "tags": []
   },
   "outputs": [
    {
     "data": {
      "text/plain": [
       "permalink      0\n",
       "rating         0\n",
       "review_text    0\n",
       "dtype: int64"
      ]
     },
     "execution_count": 6,
     "metadata": {},
     "output_type": "execute_result"
    }
   ],
   "source": [
    "data=data.dropna()\n",
    "data.isnull().sum()"
   ]
  },
  {
   "cell_type": "code",
   "execution_count": 7,
   "metadata": {
    "scrolled": true
   },
   "outputs": [
    {
     "data": {
      "text/plain": [
       "(328485, 3)"
      ]
     },
     "execution_count": 7,
     "metadata": {},
     "output_type": "execute_result"
    }
   ],
   "source": [
    "data.shape"
   ]
  },
  {
   "cell_type": "code",
   "execution_count": 9,
   "metadata": {},
   "outputs": [
    {
     "name": "stdout",
     "output_type": "stream",
     "text": [
      "[4. 1. 5. 3. 2. 0.]\n"
     ]
    }
   ],
   "source": [
    "score_unique = data['rating'].unique()\n",
    "print(score_unique)"
   ]
  },
  {
   "cell_type": "code",
   "execution_count": 10,
   "metadata": {
    "execution": {
     "iopub.execute_input": "2021-03-13T16:27:48.506192Z",
     "iopub.status.busy": "2021-03-13T16:27:48.501015Z",
     "iopub.status.idle": "2021-03-13T16:27:48.704122Z",
     "shell.execute_reply": "2021-03-13T16:27:48.703473Z"
    },
    "papermill": {
     "duration": 0.253989,
     "end_time": "2021-03-13T16:27:48.704263",
     "exception": false,
     "start_time": "2021-03-13T16:27:48.450274",
     "status": "completed"
    },
    "tags": []
   },
   "outputs": [],
   "source": [
    "#   0-> NEGATIVE REVIEW\n",
    "#   1-> NEUTRAL REVIEW\n",
    "#   2-> POSTIVE REVIEW\n",
    "a=[]\n",
    "for i in data['rating']:\n",
    "    if i <3:                              \n",
    "        a.append(0)\n",
    "    if i==3:\n",
    "        a.append(1)\n",
    "    if i>3:\n",
    "        a.append(2)"
   ]
  },
  {
   "cell_type": "code",
   "execution_count": 11,
   "metadata": {},
   "outputs": [
    {
     "name": "stdout",
     "output_type": "stream",
     "text": [
      "Negative Reviews: 32936\n",
      "Neutral Reviews: 20369\n",
      "Positive Reviews: 275180\n"
     ]
    }
   ],
   "source": [
    "r_0, r_1, r_2 = 0, 0, 0\n",
    "for i in a:\n",
    "    if i == 0:\n",
    "        r_0 += 1\n",
    "    elif i == 1:\n",
    "        r_1 += 1\n",
    "    else:\n",
    "        r_2 += 1\n",
    "\n",
    "print('Negative Reviews:',r_0)\n",
    "print('Neutral Reviews:',r_1)\n",
    "print('Positive Reviews:',r_2)"
   ]
  },
  {
   "cell_type": "code",
   "execution_count": 9,
   "metadata": {
    "execution": {
     "iopub.execute_input": "2021-03-13T16:27:48.738843Z",
     "iopub.status.busy": "2021-03-13T16:27:48.738209Z",
     "iopub.status.idle": "2021-03-13T16:27:52.191203Z",
     "shell.execute_reply": "2021-03-13T16:27:52.190555Z"
    },
    "papermill": {
     "duration": 3.472218,
     "end_time": "2021-03-13T16:27:52.191341",
     "exception": false,
     "start_time": "2021-03-13T16:27:48.719123",
     "status": "completed"
    },
    "tags": []
   },
   "outputs": [
    {
     "name": "stderr",
     "output_type": "stream",
     "text": [
      "C:\\Users\\Sriniketh J\\anaconda3\\lib\\site-packages\\seaborn\\_decorators.py:36: FutureWarning: Pass the following variable as a keyword arg: x. From version 0.12, the only valid positional argument will be `data`, and passing other arguments without an explicit keyword will result in an error or misinterpretation.\n",
      "  warnings.warn(\n"
     ]
    },
    {
     "data": {
      "image/png": "[encoded data removed]",
      "text/plain": [
       "<Figure size 432x288 with 1 Axes>"
      ]
     },
     "metadata": {
      "needs_background": "light"
     },
     "output_type": "display_data"
    }
   ],
   "source": [
    "sns.countplot(a)\n",
    "plt.xlabel('Reviews', color = 'red')\n",
    "plt.ylabel('Count', color = 'red')\n",
    "plt.xticks([0,1,2],['Negative','Neutral','Positive'])\n",
    "plt.title('COUNT PLOT', color = 'r')\n",
    "plt.show()"
   ]
  },
  {
   "cell_type": "code",
   "execution_count": 12,
   "metadata": {
    "execution": {
     "iopub.execute_input": "2021-03-13T16:27:52.228983Z",
     "iopub.status.busy": "2021-03-13T16:27:52.228227Z",
     "iopub.status.idle": "2021-03-13T16:27:52.525964Z",
     "shell.execute_reply": "2021-03-13T16:27:52.525241Z"
    },
    "papermill": {
     "duration": 0.318919,
     "end_time": "2021-03-13T16:27:52.526112",
     "exception": false,
     "start_time": "2021-03-13T16:27:52.207193",
     "status": "completed"
    },
    "tags": []
   },
   "outputs": [
    {
     "name": "stderr",
     "output_type": "stream",
     "text": [
      "C:\\Users\\chirl\\AppData\\Local\\Temp/ipykernel_6844/3881911147.py:1: SettingWithCopyWarning: \n",
      "A value is trying to be set on a copy of a slice from a DataFrame.\n",
      "Try using .loc[row_indexer,col_indexer] = value instead\n",
      "\n",
      "See the caveats in the documentation: https://pandas.pydata.org/pandas-docs/stable/user_guide/indexing.html#returning-a-view-versus-a-copy\n",
      "  data['sentiment']=a\n"
     ]
    },
    {
     "data": {
      "text/html": [
       "<div>\n",
       "<style scoped>\n",
       "    .dataframe tbody tr th:only-of-type {\n",
       "        vertical-align: middle;\n",
       "    }\n",
       "\n",
       "    .dataframe tbody tr th {\n",
       "        vertical-align: top;\n",
       "    }\n",
       "\n",
       "    .dataframe thead th {\n",
       "        text-align: right;\n",
       "    }\n",
       "</style>\n",
       "<table border=\"1\" class=\"dataframe\">\n",
       "  <thead>\n",
       "    <tr style=\"text-align: right;\">\n",
       "      <th></th>\n",
       "      <th>review_text</th>\n",
       "      <th>sentiment</th>\n",
       "    </tr>\n",
       "  </thead>\n",
       "  <tbody>\n",
       "    <tr>\n",
       "      <th>0</th>\n",
       "      <td>Вкусная питца, естт летнее кафе, доставка, при...</td>\n",
       "      <td>2</td>\n",
       "    </tr>\n",
       "    <tr>\n",
       "      <th>1</th>\n",
       "      <td>Думал можно днём с детьми посидеть на открытой...</td>\n",
       "      <td>0</td>\n",
       "    </tr>\n",
       "    <tr>\n",
       "      <th>2</th>\n",
       "      <td>Есть веранда, вкусная пицца, делают по половин...</td>\n",
       "      <td>2</td>\n",
       "    </tr>\n",
       "    <tr>\n",
       "      <th>3</th>\n",
       "      <td>Уже второй раз забивают на заказ</td>\n",
       "      <td>0</td>\n",
       "    </tr>\n",
       "    <tr>\n",
       "      <th>4</th>\n",
       "      <td>Любимая пиццерия! 👍</td>\n",
       "      <td>2</td>\n",
       "    </tr>\n",
       "    <tr>\n",
       "      <th>...</th>\n",
       "      <td>...</td>\n",
       "      <td>...</td>\n",
       "    </tr>\n",
       "    <tr>\n",
       "      <th>328640</th>\n",
       "      <td>Очень вкусная пицца!!!!</td>\n",
       "      <td>2</td>\n",
       "    </tr>\n",
       "    <tr>\n",
       "      <th>328641</th>\n",
       "      <td>Лучший борщ на Роза Хутор!!! Большая порция, т...</td>\n",
       "      <td>2</td>\n",
       "    </tr>\n",
       "    <tr>\n",
       "      <th>328642</th>\n",
       "      <td>Все понравилось! Пицца норм</td>\n",
       "      <td>2</td>\n",
       "    </tr>\n",
       "    <tr>\n",
       "      <th>328643</th>\n",
       "      <td>обслуживание нормальное, соотношение цена/каче...</td>\n",
       "      <td>0</td>\n",
       "    </tr>\n",
       "    <tr>\n",
       "      <th>328644</th>\n",
       "      <td>Ооочень долгое обслуживание.  Необоснованно вы...</td>\n",
       "      <td>0</td>\n",
       "    </tr>\n",
       "  </tbody>\n",
       "</table>\n",
       "<p>328485 rows × 2 columns</p>\n",
       "</div>"
      ],
      "text/plain": [
       "                                              review_text  sentiment\n",
       "0       Вкусная питца, естт летнее кафе, доставка, при...          2\n",
       "1       Думал можно днём с детьми посидеть на открытой...          0\n",
       "2       Есть веранда, вкусная пицца, делают по половин...          2\n",
       "3                        Уже второй раз забивают на заказ          0\n",
       "4                                     Любимая пиццерия! 👍          2\n",
       "...                                                   ...        ...\n",
       "328640                            Очень вкусная пицца!!!!          2\n",
       "328641  Лучший борщ на Роза Хутор!!! Большая порция, т...          2\n",
       "328642                        Все понравилось! Пицца норм          2\n",
       "328643  обслуживание нормальное, соотношение цена/каче...          0\n",
       "328644  Ооочень долгое обслуживание.  Необоснованно вы...          0\n",
       "\n",
       "[328485 rows x 2 columns]"
      ]
     },
     "execution_count": 12,
     "metadata": {},
     "output_type": "execute_result"
    }
   ],
   "source": [
    "data['sentiment']=a\n",
    "#data\n",
    "final_dataset = data[['review_text','sentiment']]\n",
    "final_dataset"
   ]
  },
  {
   "cell_type": "code",
   "execution_count": 13,
   "metadata": {
    "execution": {
     "iopub.execute_input": "2021-03-13T16:27:52.564895Z",
     "iopub.status.busy": "2021-03-13T16:27:52.564247Z",
     "iopub.status.idle": "2021-03-13T16:27:52.602794Z",
     "shell.execute_reply": "2021-03-13T16:27:52.601774Z"
    },
    "papermill": {
     "duration": 0.06016,
     "end_time": "2021-03-13T16:27:52.602941",
     "exception": false,
     "start_time": "2021-03-13T16:27:52.542781",
     "status": "completed"
    },
    "tags": []
   },
   "outputs": [
    {
     "data": {
      "text/plain": [
       "(275180, 32936)"
      ]
     },
     "execution_count": 13,
     "metadata": {},
     "output_type": "execute_result"
    }
   ],
   "source": [
    "data_p=final_dataset[data['sentiment']==2]\n",
    "data_n=final_dataset[data['sentiment']==0]\n",
    "len(data_p), len(data_n)"
   ]
  },
  {
   "cell_type": "code",
   "execution_count": 15,
   "metadata": {
    "execution": {
     "iopub.execute_input": "2021-03-13T16:27:52.645015Z",
     "iopub.status.busy": "2021-03-13T16:27:52.644154Z",
     "iopub.status.idle": "2021-03-13T16:27:52.653374Z",
     "shell.execute_reply": "2021-03-13T16:27:52.652758Z"
    },
    "papermill": {
     "duration": 0.034092,
     "end_time": "2021-03-13T16:27:52.653525",
     "exception": false,
     "start_time": "2021-03-13T16:27:52.619433",
     "status": "completed"
    },
    "tags": []
   },
   "outputs": [
    {
     "data": {
      "text/plain": [
       "(5000, 5000)"
      ]
     },
     "execution_count": 15,
     "metadata": {},
     "output_type": "execute_result"
    }
   ],
   "source": [
    "datap = data_p.iloc[np.random.randint(1, 275180,5000), :]\n",
    "datan = data_n.iloc[np.random.randint(1, 32936,5000), :]\n",
    "len(datan), len(datap)"
   ]
  },
  {
   "cell_type": "code",
   "execution_count": 20,
   "metadata": {
    "execution": {
     "iopub.execute_input": "2021-03-13T16:27:52.718098Z",
     "iopub.status.busy": "2021-03-13T16:27:52.696002Z",
     "iopub.status.idle": "2021-03-13T16:27:52.722428Z",
     "shell.execute_reply": "2021-03-13T16:27:52.723006Z"
    },
    "papermill": {
     "duration": 0.052498,
     "end_time": "2021-03-13T16:27:52.723175",
     "exception": false,
     "start_time": "2021-03-13T16:27:52.670677",
     "status": "completed"
    },
    "tags": []
   },
   "outputs": [
    {
     "data": {
      "text/plain": [
       "10000"
      ]
     },
     "execution_count": 20,
     "metadata": {},
     "output_type": "execute_result"
    }
   ],
   "source": [
    "data = pd.concat([datap,datan])\n",
    "len(data)"
   ]
  },
  {
   "cell_type": "code",
   "execution_count": 21,
   "metadata": {
    "execution": {
     "iopub.execute_input": "2021-03-13T16:27:52.761247Z",
     "iopub.status.busy": "2021-03-13T16:27:52.760643Z",
     "iopub.status.idle": "2021-03-13T16:27:52.773854Z",
     "shell.execute_reply": "2021-03-13T16:27:52.774377Z"
    },
    "papermill": {
     "duration": 0.034064,
     "end_time": "2021-03-13T16:27:52.774563",
     "exception": false,
     "start_time": "2021-03-13T16:27:52.740499",
     "status": "completed"
    },
    "tags": []
   },
   "outputs": [
    {
     "data": {
      "text/plain": [
       "71622     False\n",
       "292496    False\n",
       "206693    False\n",
       "303048    False\n",
       "292872    False\n",
       "          ...  \n",
       "65172      True\n",
       "6357       True\n",
       "37599      True\n",
       "283916     True\n",
       "269309     True\n",
       "Name: sentiment, Length: 10000, dtype: bool"
      ]
     },
     "execution_count": 21,
     "metadata": {},
     "output_type": "execute_result"
    }
   ],
   "source": [
    "c=[]\n",
    "for i in data['sentiment']:\n",
    "    if i==0:\n",
    "        c.append(0)\n",
    "    if i==2:\n",
    "        c.append(1)\n",
    "data['sentiment']==c"
   ]
  },
  {
   "cell_type": "code",
   "execution_count": 22,
   "metadata": {
    "execution": {
     "iopub.execute_input": "2021-03-13T16:27:52.813343Z",
     "iopub.status.busy": "2021-03-13T16:27:52.812696Z",
     "iopub.status.idle": "2021-03-13T16:27:52.931829Z",
     "shell.execute_reply": "2021-03-13T16:27:52.932370Z"
    },
    "papermill": {
     "duration": 0.140594,
     "end_time": "2021-03-13T16:27:52.932569",
     "exception": false,
     "start_time": "2021-03-13T16:27:52.791975",
     "status": "completed"
    },
    "scrolled": true,
    "tags": []
   },
   "outputs": [
    {
     "name": "stderr",
     "output_type": "stream",
     "text": [
      "C:\\Users\\chirl\\anaconda3\\lib\\site-packages\\seaborn\\_decorators.py:36: FutureWarning: Pass the following variable as a keyword arg: x. From version 0.12, the only valid positional argument will be `data`, and passing other arguments without an explicit keyword will result in an error or misinterpretation.\n",
      "  warnings.warn(\n"
     ]
    },
    {
     "data": {
      "image/png": "[encoded data removed]",
      "text/plain": [
       "<Figure size 432x288 with 1 Axes>"
      ]
     },
     "metadata": {
      "needs_background": "light"
     },
     "output_type": "display_data"
    }
   ],
   "source": [
    "sns.countplot(data['sentiment'])\n",
    "plt.show()"
   ]
  },
  {
   "cell_type": "code",
   "execution_count": 23,
   "metadata": {
    "execution": {
     "iopub.execute_input": "2021-03-13T16:27:52.976139Z",
     "iopub.status.busy": "2021-03-13T16:27:52.975221Z",
     "iopub.status.idle": "2021-03-13T16:28:06.765174Z",
     "shell.execute_reply": "2021-03-13T16:28:06.764583Z"
    },
    "papermill": {
     "duration": 13.812836,
     "end_time": "2021-03-13T16:28:06.765326",
     "exception": false,
     "start_time": "2021-03-13T16:27:52.952490",
     "status": "completed"
    },
    "tags": []
   },
   "outputs": [
    {
     "data": {
      "text/html": [
       "<div>\n",
       "<style scoped>\n",
       "    .dataframe tbody tr th:only-of-type {\n",
       "        vertical-align: middle;\n",
       "    }\n",
       "\n",
       "    .dataframe tbody tr th {\n",
       "        vertical-align: top;\n",
       "    }\n",
       "\n",
       "    .dataframe thead th {\n",
       "        text-align: right;\n",
       "    }\n",
       "</style>\n",
       "<table border=\"1\" class=\"dataframe\">\n",
       "  <thead>\n",
       "    <tr style=\"text-align: right;\">\n",
       "      <th></th>\n",
       "      <th>sentiment</th>\n",
       "      <th>review</th>\n",
       "    </tr>\n",
       "  </thead>\n",
       "  <tbody>\n",
       "    <tr>\n",
       "      <th>71622</th>\n",
       "      <td>2</td>\n",
       "      <td>Одно из моих любимых мест)))) покушать и потан...</td>\n",
       "    </tr>\n",
       "    <tr>\n",
       "      <th>292496</th>\n",
       "      <td>2</td>\n",
       "      <td>Большое разнообразие пиццы, заказываем на обед...</td>\n",
       "    </tr>\n",
       "    <tr>\n",
       "      <th>206693</th>\n",
       "      <td>2</td>\n",
       "      <td>Уютно, вкусно, приемлемые цены. Советую.</td>\n",
       "    </tr>\n",
       "    <tr>\n",
       "      <th>303048</th>\n",
       "      <td>2</td>\n",
       "      <td>Пицца очень вкусная, коктейли тоже!! Достаточн...</td>\n",
       "    </tr>\n",
       "    <tr>\n",
       "      <th>292872</th>\n",
       "      <td>2</td>\n",
       "      <td>Очень вкусный Бенедикт с лососем</td>\n",
       "    </tr>\n",
       "  </tbody>\n",
       "</table>\n",
       "</div>"
      ],
      "text/plain": [
       "        sentiment                                             review\n",
       "71622           2  Одно из моих любимых мест)))) покушать и потан...\n",
       "292496          2  Большое разнообразие пиццы, заказываем на обед...\n",
       "206693          2           Уютно, вкусно, приемлемые цены. Советую.\n",
       "303048          2  Пицца очень вкусная, коктейли тоже!! Достаточн...\n",
       "292872          2                   Очень вкусный Бенедикт с лососем"
      ]
     },
     "execution_count": 23,
     "metadata": {},
     "output_type": "execute_result"
    }
   ],
   "source": [
    "def strip_html(text):\n",
    "    soup = BeautifulSoup(text, \"html.parser\")\n",
    "    return soup.get_text()\n",
    "data['review'] = data['review_text'].apply(strip_html)\n",
    "\n",
    "data=data.drop('review_text',axis=1)\n",
    "\n",
    "data.head()"
   ]
  },
  {
   "cell_type": "markdown",
   "metadata": {},
   "source": [
    "# MODEL BUILDING"
   ]
  },
  {
   "cell_type": "code",
   "execution_count": 24,
   "metadata": {
    "execution": {
     "iopub.execute_input": "2021-03-13T16:28:06.822582Z",
     "iopub.status.busy": "2021-03-13T16:28:06.821370Z",
     "iopub.status.idle": "2021-03-13T16:28:08.280602Z",
     "shell.execute_reply": "2021-03-13T16:28:08.279914Z"
    },
    "papermill": {
     "duration": 1.490321,
     "end_time": "2021-03-13T16:28:08.280749",
     "exception": false,
     "start_time": "2021-03-13T16:28:06.790428",
     "status": "completed"
    },
    "tags": []
   },
   "outputs": [
    {
     "data": {
      "text/html": [
       "<div>\n",
       "<style scoped>\n",
       "    .dataframe tbody tr th:only-of-type {\n",
       "        vertical-align: middle;\n",
       "    }\n",
       "\n",
       "    .dataframe tbody tr th {\n",
       "        vertical-align: top;\n",
       "    }\n",
       "\n",
       "    .dataframe thead th {\n",
       "        text-align: right;\n",
       "    }\n",
       "</style>\n",
       "<table border=\"1\" class=\"dataframe\">\n",
       "  <thead>\n",
       "    <tr style=\"text-align: right;\">\n",
       "      <th></th>\n",
       "      <th>sentiment</th>\n",
       "      <th>review</th>\n",
       "    </tr>\n",
       "  </thead>\n",
       "  <tbody>\n",
       "    <tr>\n",
       "      <th>71622</th>\n",
       "      <td>2</td>\n",
       "      <td>Одно из моих любимых мест покушать и потанцева...</td>\n",
       "    </tr>\n",
       "    <tr>\n",
       "      <th>292496</th>\n",
       "      <td>2</td>\n",
       "      <td>Большое разнообразие пиццы заказываем на обед ...</td>\n",
       "    </tr>\n",
       "  </tbody>\n",
       "</table>\n",
       "</div>"
      ],
      "text/plain": [
       "        sentiment                                             review\n",
       "71622           2  Одно из моих любимых мест покушать и потанцева...\n",
       "292496          2  Большое разнообразие пиццы заказываем на обед ..."
      ]
     },
     "execution_count": 24,
     "metadata": {},
     "output_type": "execute_result"
    }
   ],
   "source": [
    "import nltk  \n",
    "def punc_clean(text):\n",
    "    import string as st\n",
    "    a=[w for w in text if w not in st.punctuation]\n",
    "    return ''.join(a)\n",
    "data['review'] = data['review'].apply(punc_clean)\n",
    "data.head(2)"
   ]
  },
  {
   "cell_type": "code",
   "execution_count": 28,
   "metadata": {
    "execution": {
     "iopub.execute_input": "2021-03-13T16:28:08.340787Z",
     "iopub.status.busy": "2021-03-13T16:28:08.340120Z",
     "iopub.status.idle": "2021-03-13T16:28:18.825059Z",
     "shell.execute_reply": "2021-03-13T16:28:18.824303Z"
    },
    "papermill": {
     "duration": 10.518179,
     "end_time": "2021-03-13T16:28:18.825205",
     "exception": false,
     "start_time": "2021-03-13T16:28:08.307026",
     "status": "completed"
    },
    "tags": []
   },
   "outputs": [],
   "source": [
    "def remove_stopword(text):\n",
    "    stopword=nltk.corpus.stopwords.words('russian')\n",
    "    stopword.remove('нет')\n",
    "    a=[w for w in nltk.word_tokenize(text) if w not in stopword]\n",
    "    return ' '.join(a)\n",
    "data['review'] = data['review'].apply(remove_stopword)"
   ]
  },
  {
   "cell_type": "code",
   "execution_count": 29,
   "metadata": {
    "execution": {
     "iopub.execute_input": "2021-03-13T16:28:18.921507Z",
     "iopub.status.busy": "2021-03-13T16:28:18.916495Z",
     "iopub.status.idle": "2021-03-13T16:28:21.553576Z",
     "shell.execute_reply": "2021-03-13T16:28:21.553032Z"
    },
    "papermill": {
     "duration": 2.703145,
     "end_time": "2021-03-13T16:28:21.553726",
     "exception": false,
     "start_time": "2021-03-13T16:28:18.850581",
     "status": "completed"
    },
    "tags": []
   },
   "outputs": [],
   "source": [
    "from sklearn.feature_extraction.text import TfidfVectorizer\n",
    "\n",
    "vectr = TfidfVectorizer(ngram_range=(1,2),min_df=1)\n",
    "vectr.fit(data['review'])\n",
    "\n",
    "vect_X = vectr.transform(data['review'])"
   ]
  },
  {
   "cell_type": "code",
   "execution_count": 30,
   "metadata": {
    "execution": {
     "iopub.execute_input": "2021-03-13T16:28:21.612076Z",
     "iopub.status.busy": "2021-03-13T16:28:21.611368Z",
     "iopub.status.idle": "2021-03-13T16:28:22.028403Z",
     "shell.execute_reply": "2021-03-13T16:28:22.029297Z"
    },
    "papermill": {
     "duration": 0.44834,
     "end_time": "2021-03-13T16:28:22.029590",
     "exception": false,
     "start_time": "2021-03-13T16:28:21.581250",
     "status": "completed"
    },
    "scrolled": true,
    "tags": []
   },
   "outputs": [
    {
     "data": {
      "text/plain": [
       "95.94"
      ]
     },
     "execution_count": 30,
     "metadata": {},
     "output_type": "execute_result"
    }
   ],
   "source": [
    "from sklearn.linear_model import LogisticRegression\n",
    "\n",
    "model = LogisticRegression()\n",
    "\n",
    "clf=model.fit(vect_X,data['sentiment'])\n",
    "clf.score(vect_X,data['sentiment'])*100"
   ]
  },
  {
   "cell_type": "markdown",
   "metadata": {},
   "source": [
    "# PREDICTION"
   ]
  },
  {
   "cell_type": "code",
   "execution_count": 32,
   "metadata": {
    "execution": {
     "iopub.execute_input": "2021-03-13T16:28:22.140180Z",
     "iopub.status.busy": "2021-03-13T16:28:22.139557Z",
     "iopub.status.idle": "2021-03-13T16:28:22.142422Z",
     "shell.execute_reply": "2021-03-13T16:28:22.142902Z"
    },
    "papermill": {
     "duration": 0.062393,
     "end_time": "2021-03-13T16:28:22.143073",
     "exception": false,
     "start_time": "2021-03-13T16:28:22.080680",
     "status": "completed"
    },
    "tags": []
   },
   "outputs": [
    {
     "data": {
      "text/plain": [
       "array([2], dtype=int64)"
      ]
     },
     "execution_count": 32,
     "metadata": {},
     "output_type": "execute_result"
    }
   ],
   "source": [
    "clf.predict(vectr.transform(['''Я люблю''']))"
   ]
  },
  {
   "cell_type": "code",
   "execution_count": 33,
   "metadata": {
    "execution": {
     "iopub.execute_input": "2021-03-13T16:28:22.201709Z",
     "iopub.status.busy": "2021-03-13T16:28:22.201077Z",
     "iopub.status.idle": "2021-03-13T16:28:22.207320Z",
     "shell.execute_reply": "2021-03-13T16:28:22.208108Z"
    },
    "papermill": {
     "duration": 0.036995,
     "end_time": "2021-03-13T16:28:22.208319",
     "exception": false,
     "start_time": "2021-03-13T16:28:22.171324",
     "status": "completed"
    },
    "tags": []
   },
   "outputs": [
    {
     "data": {
      "text/plain": [
       "array([0], dtype=int64)"
      ]
     },
     "execution_count": 33,
     "metadata": {},
     "output_type": "execute_result"
    }
   ],
   "source": [
    "clf.predict(vectr.transform(['''Я ненавижу''']))"
   ]
  },
  {
   "cell_type": "code",
   "execution_count": null,
   "metadata": {},
   "outputs": [],
   "source": []
  }
 ],
 "metadata": {
  "kernelspec": {
   "display_name": "Python 3 (ipykernel)",
   "language": "python",
   "name": "python3"
  },
  "language_info": {
   "codemirror_mode": {
    "name": "ipython",
    "version": 3
   },
   "file_extension": ".py",
   "mimetype": "text/x-python",
   "name": "python",
   "nbconvert_exporter": "python",
   "pygments_lexer": "ipython3",
   "version": "3.9.7"
  },
  "papermill": {
   "default_parameters": {},
   "duration": 50.126058,
   "end_time": "2021-03-13T16:28:23.248091",
   "environment_variables": {},
   "exception": null,
   "input_path": "__notebook__.ipynb",
   "output_path": "__notebook__.ipynb",
   "parameters": {},
   "start_time": "2021-03-13T16:27:33.122033",
   "version": "2.2.2"
  }
 },
 "nbformat": 4,
 "nbformat_minor": 4
}
